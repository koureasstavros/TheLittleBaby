{
 "cells": [
  {
   "cell_type": "code",
   "execution_count": 7,
   "id": "95bc6c63",
   "metadata": {},
   "outputs": [],
   "source": [
    "import re\n",
    "import json\n",
    "from pathlib import Path as pt"
   ]
  },
  {
   "cell_type": "code",
   "execution_count": null,
   "id": "b7b3f00c",
   "metadata": {},
   "outputs": [],
   "source": [
    "runtime_path_inp = input(\"Enter the runtime path ('same', '<path>'): \").strip().lower()\n",
    "runtime_uuid_inp = input(\"Enter the model configuration ('<uuid>'/'all'): \").strip().lower()"
   ]
  },
  {
   "cell_type": "code",
   "execution_count": 9,
   "id": "aff4d5d7",
   "metadata": {},
   "outputs": [],
   "source": [
    "########################\n",
    "# Runtime variables\n",
    "########################\n",
    "\n",
    "if runtime_path_inp == \"same\":\n",
    "    runtime_path = \".\"\n",
    "else:\n",
    "    runtime_path = runtime_path_inp\n",
    "\n",
    "runtime_uuid = runtime_uuid_inp\n",
    "\n",
    "config_path = f\"{runtime_path}/configs\"\n",
    "tokenizers_path = f\"{runtime_path}/tokenizers\"\n",
    "inputs_path = f\"{runtime_path}/inputs\"\n",
    "outputs_path = f\"{runtime_path}/outputs\"\n",
    "models_path = f\"{runtime_path}/models\""
   ]
  },
  {
   "cell_type": "code",
   "execution_count": 10,
   "id": "e03cce57",
   "metadata": {},
   "outputs": [],
   "source": [
    "########################\n",
    "# Extract file components\n",
    "########################\n",
    "    \n",
    "runtime_uuids = []\n",
    "if runtime_uuid == \"all\":\n",
    "    # Define the directory\n",
    "    directory = pt(f\"{outputs_path}\")\n",
    "\n",
    "    # Regex pattern for GUID\n",
    "    pattern = re.compile(r'report_([a-f0-9\\-]{36})\\.json')\n",
    "\n",
    "    # Find matching files and extract GUIDs\n",
    "    for file in directory.glob('report_*.json'):\n",
    "        match = pattern.match(file.name)\n",
    "        if match:\n",
    "            runtime_uuids.append(match.group(1))\n",
    "else:\n",
    "    # If a specific UUID is provided, add it to the list\n",
    "    runtime_uuids.append(runtime_uuid)\n",
    "\n",
    "# Loop through each GUID to extract weights\n",
    "for runtime_uuid in runtime_uuids:\n",
    "        # Load the model from a single file\n",
    "        output_path_inp = f\"{outputs_path}/report_{runtime_uuid}.json\"\n",
    "        with open(output_path_inp, \"r\") as f:\n",
    "            output = json.load(f)\n",
    "\n",
    "        # Store the model config to a single file\n",
    "        config = output['config']        \n",
    "        \n",
    "        config_path_out = f\"{config_path}/config_{runtime_uuid}.json\"\n",
    "        with open(config_path_out, \"w\", encoding=\"utf-8\") as f:\n",
    "            json.dump(config, f, indent=4)\n",
    "\n",
    "        # Store the model report to a single file\n",
    "        report = {\n",
    "            \"num_epochs\": output['analysis']['num_epochs'],\n",
    "            \"train_batches_per_epoch\": output['analysis']['train_batches_per_epoch'],\n",
    "            \"val_batches_per_epoch\": output['analysis']['val_batches_per_epoch'],\n",
    "            \"average_train_loss_per_epoch\": output['analysis']['average_train_loss_per_epoch'],\n",
    "            \"average_val_loss_per_epoch\": output['analysis']['average_val_loss_per_epoch'],\n",
    "            \"average_time_per_epoch\": output['analysis']['average_train_time_per_epoch'],\n",
    "            \"batch_logs\": output['batch_logs'],\n",
    "            \"epoch_logs\": output['epoch_logs'],\n",
    "        }\n",
    "\n",
    "        report_path_out = f\"{outputs_path}/report_{runtime_uuid}.json\"\n",
    "        with open(report_path_out, \"w\", encoding=\"utf-8\") as f:\n",
    "            json.dump(report, f, indent=4)\n"
   ]
  },
  {
   "cell_type": "code",
   "execution_count": 11,
   "id": "1b578289",
   "metadata": {},
   "outputs": [],
   "source": [
    "########################\n",
    "# Duplicate file components\n",
    "########################\n",
    "    \n",
    "runtime_uuids = []\n",
    "if runtime_uuid == \"all\":\n",
    "    # Define the directory\n",
    "    directory = pt(f\"{config_path}\")\n",
    "\n",
    "    # Regex pattern for GUID\n",
    "    pattern = re.compile(r'config_([a-f0-9\\-]{36})\\.json')\n",
    "\n",
    "    # Find matching files and extract GUIDs\n",
    "    for file in directory.glob('config_*.json'):\n",
    "        match = pattern.match(file.name)\n",
    "        if match:\n",
    "            runtime_uuids.append(match.group(1))\n",
    "\n",
    "# Loop through each GUID to extract weights\n",
    "for runtime_uuid in runtime_uuids:\n",
    "        # Load the model from a single file\n",
    "        tokenizer_path_inp = f\"{tokenizers_path}/tokenizer_d25f76fe-eef0-45b1-8584-d4e9dda078ce.json\"\n",
    "        with open(tokenizer_path_inp, \"r\") as f:\n",
    "            tokenizer = json.load(f)      \n",
    "        \n",
    "        tokenizer_path_out = f\"{tokenizers_path}/tokenizer_{runtime_uuid}.json\"\n",
    "        with open(tokenizer_path_out, \"w\", encoding=\"utf-8\") as f:\n",
    "            json.dump(tokenizer, f, indent=4)\n"
   ]
  }
 ],
 "metadata": {
  "kernelspec": {
   "display_name": "python-3-12-9",
   "language": "python",
   "name": "python3"
  },
  "language_info": {
   "codemirror_mode": {
    "name": "ipython",
    "version": 3
   },
   "file_extension": ".py",
   "mimetype": "text/x-python",
   "name": "python",
   "nbconvert_exporter": "python",
   "pygments_lexer": "ipython3",
   "version": "3.12.9"
  }
 },
 "nbformat": 4,
 "nbformat_minor": 5
}
