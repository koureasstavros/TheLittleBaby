{
 "cells": [
  {
   "cell_type": "code",
   "execution_count": null,
   "id": "c5d903a5",
   "metadata": {},
   "outputs": [],
   "source": [
    "import os\n",
    "from dotenv import load_dotenv\n",
    "from huggingface_hub import HfApi"
   ]
  },
  {
   "cell_type": "code",
   "execution_count": null,
   "id": "e9fc6057",
   "metadata": {},
   "outputs": [],
   "source": [
    "# === Hunging Face Setup ===\n",
    "HF_TOKEN = os.getenv(\"HFUD_TOKEN\")\n",
    "HF_REPOS = os.getenv(\"HFUD_REPOS\")"
   ]
  },
  {
   "cell_type": "code",
   "execution_count": null,
   "id": "8e633dd8",
   "metadata": {},
   "outputs": [],
   "source": [
    "api = HfApi(token=HF_TOKEN)"
   ]
  },
  {
   "cell_type": "code",
   "execution_count": null,
   "id": "ba63e0b8",
   "metadata": {},
   "outputs": [],
   "source": [
    "#Explore old model files\n",
    "existing_files = api.list_repo_files(\n",
    "    repo_id=HF_REPOS,\n",
    "    repo_type=\"model\"\n",
    ")\n",
    "print(existing_files)"
   ]
  },
  {
   "cell_type": "code",
   "execution_count": null,
   "id": "422de142",
   "metadata": {},
   "outputs": [],
   "source": [
    "#Delete old model files\n",
    "for file in existing_files:\n",
    "    if file.startswith(\"model_\") and file.endswith(\".pkl\"):\n",
    "        api.delete_file(repo_id=HF_REPOS, path_in_repo=file, repo_type=\"model\")"
   ]
  },
  {
   "cell_type": "code",
   "execution_count": null,
   "id": "a817ff58",
   "metadata": {},
   "outputs": [],
   "source": [
    "#Upload new Readme file\n",
    "api.upload_folder(\n",
    "    folder_path=\"../\",\n",
    "    repo_id=HF_REPOS,\n",
    "    allow_patterns=[\"README.md\"],\n",
    "    repo_type=\"model\"\n",
    ")"
   ]
  },
  {
   "cell_type": "code",
   "execution_count": null,
   "id": "4c17a71c",
   "metadata": {},
   "outputs": [],
   "source": [
    "#Upload new model files\n",
    "api.upload_folder(\n",
    "    folder_path=\"../models\",\n",
    "    repo_id=HF_REPOS,\n",
    "    allow_patterns=[\"model_*.weights\"],\n",
    "    repo_type=\"model\"\n",
    ")"
   ]
  }
 ],
 "metadata": {
  "kernelspec": {
   "display_name": "base",
   "language": "python",
   "name": "python3"
  },
  "language_info": {
   "codemirror_mode": {
    "name": "ipython",
    "version": 3
   },
   "file_extension": ".py",
   "mimetype": "text/x-python",
   "name": "python",
   "nbconvert_exporter": "python",
   "pygments_lexer": "ipython3",
   "version": "3.12.7"
  }
 },
 "nbformat": 4,
 "nbformat_minor": 5
}
