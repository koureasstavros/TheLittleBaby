{
 "cells": [
  {
   "cell_type": "code",
   "execution_count": null,
   "id": "7263d7ec",
   "metadata": {},
   "outputs": [],
   "source": [
    "import os\n",
    "import re\n",
    "import json\n",
    "import requests\n",
    "from dotenv import load_dotenv\n",
    "from pathlib import Path as pt"
   ]
  },
  {
   "cell_type": "code",
   "execution_count": null,
   "id": "f7692bc5",
   "metadata": {},
   "outputs": [],
   "source": [
    "runtime_path_inp = input(\"Enter the runtime path ('same', '<path>'): \").strip().lower()\n",
    "runtime_uuid_inp = input(\"Enter the model configuration ('<uuid>'/'all'): \").strip().lower()"
   ]
  },
  {
   "cell_type": "code",
   "execution_count": null,
   "id": "ff7729c7",
   "metadata": {},
   "outputs": [],
   "source": [
    "########################\n",
    "# Runtime variables\n",
    "########################\n",
    "\n",
    "if runtime_path_inp == \"same\":\n",
    "    runtime_path = \".\"\n",
    "else:\n",
    "    runtime_path = runtime_path_inp\n",
    "    \n",
    "runtime_uuid = runtime_uuid_inp"
   ]
  },
  {
   "cell_type": "code",
   "execution_count": null,
   "id": "f276ee78",
   "metadata": {},
   "outputs": [],
   "source": [
    "# === Azure Foundry Setup ===\n",
    "API_URL = os.getenv(\"AZEV_API_URL\")\n",
    "API_KEY = os.getenv(\"AZEV_API_KEY\")\n",
    "MODEL_ID = os.getenv(\"AZEV_MODEL_ID\")"
   ]
  },
  {
   "cell_type": "code",
   "execution_count": null,
   "id": "3bd90f19",
   "metadata": {},
   "outputs": [],
   "source": [
    "HEADERS = {\n",
    "    \"Authorization\": f\"Bearer {API_KEY}\",\n",
    "    \"Content-Type\": \"application/json\"\n",
    "}"
   ]
  },
  {
   "cell_type": "code",
   "execution_count": null,
   "id": "88fbe0f6",
   "metadata": {},
   "outputs": [],
   "source": [
    "debug = False\n",
    "epochs = 10"
   ]
  },
  {
   "cell_type": "code",
   "execution_count": null,
   "id": "96973c86",
   "metadata": {},
   "outputs": [],
   "source": [
    "# === Process ===\n",
    "def process(folder_path, file_prefix):\n",
    "    runtime_uuids = []\n",
    "    if runtime_uuid == \"all\":\n",
    "        # Define the directory\n",
    "        directory = pt(f\"{folder_path}\")\n",
    "\n",
    "        # Regex pattern for GUID\n",
    "        pattern = re.compile(r'completion_([a-f0-9\\-]{36})\\.json')\n",
    "\n",
    "        # Find matching files and extract GUIDs\n",
    "        for file in directory.glob('report_*.json'):\n",
    "            match = pattern.match(file.name)\n",
    "            if match:\n",
    "                runtime_uuids.append(match.group(1))\n",
    "    else:\n",
    "        # If a specific UUID is provided, add it to the list\n",
    "        runtime_uuids.append(runtime_uuid)\n",
    "\n",
    "    # Loop through each GUID to extract weights\n",
    "    for runtime_uuid in runtime_uuids:\n",
    "        file_name = f\"{file_prefix}_{runtime_uuid}.json\"\n",
    "        file_path = os.path.join(folder_path, file_name)\n",
    "\n",
    "        if os.path.isfile(file_path):\n",
    "            with open(file_path, \"r\", encoding=\"utf-8\") as f:\n",
    "                completion_old = json.load(f)\n",
    "                generation_old = completion_old.get(\"generation\", \"No prompt provided.\")\n",
    "\n",
    "            payload = {\n",
    "                \"model\": MODEL_ID,\n",
    "                \"messages\": [\n",
    "                    {\"role\": \"system\", \"content\": \"You are an intelligent assistant.\"},\n",
    "                    {\"role\": \"user\", \"content\":\n",
    "                        f\"Evaluate the following generated text by checking the Coherence, Consistency, Grammar, Syntax, Spelling\" +\n",
    "                        f\"Try to be as concise as possible, so everytime the score will be the same.\" +\n",
    "                        f\"Always provide the total-score at the top and sub-score inline with explanation.\" +\n",
    "                        f\"The score should be an integer number between 1 and 100, where 1 is the worst and 100 is the best.\" +\n",
    "                        f\"Output only the integer score number\" +\n",
    "                        f\"\\n\\n\"\n",
    "                        f\"\\\"{generation_old}\\\"\"\n",
    "                        }\n",
    "                ]\n",
    "            }\n",
    "\n",
    "            for i in range(epochs):\n",
    "                score_new = 0\n",
    "                score_cnt = 0\n",
    "                generation_new = \"\"\n",
    "                response = requests.post(url=API_URL, headers=HEADERS, json=payload)\n",
    "                response_json = response.json()\n",
    "                try:\n",
    "                    generation_new = response_json[\"choices\"][0][\"message\"][\"content\"]\n",
    "                    score_cnt += 1\n",
    "                    score_new += int(generation_new.split()[0])\n",
    "                    if debug:\n",
    "                        print(f\"\\n📄 {filename}\\nModel Output:\\n{generation_new}\")\n",
    "                except (KeyError, IndexError, ValueError):\n",
    "                    if debug:\n",
    "                        print(f\"\\n📄 {filename}\\nModel Output:\\n{response_json}\")\n",
    "\n",
    "            score_avg = score_new // score_cnt if score_cnt > 0 else 0\n",
    "            with open(file_path, \"w\", encoding=\"utf-8\") as f:\n",
    "                \n",
    "                print(f\"\\n📄 {filename}\\nEvaluation:\\n{score_avg}\")\n",
    "                completion_old[\"evaluation\"] = score_avg\n",
    "                completion_old = json.dump(completion_old, f, indent=4)"
   ]
  },
  {
   "cell_type": "code",
   "execution_count": null,
   "id": "1a6abe7f",
   "metadata": {},
   "outputs": [],
   "source": [
    "# === Run the script ===\n",
    "if __name__ == \"__main__\":\n",
    "    folder_path = f\"{runtime_path}/outputs\"\n",
    "    file_prefix = f\"completion_{runtime_uuid}\"\n",
    "    process(folder_path, file_prefix)"
   ]
  }
 ],
 "metadata": {
  "kernelspec": {
   "display_name": "python-3-12-9",
   "language": "python",
   "name": "python3"
  },
  "language_info": {
   "codemirror_mode": {
    "name": "ipython",
    "version": 3
   },
   "file_extension": ".py",
   "mimetype": "text/x-python",
   "name": "python",
   "nbconvert_exporter": "python",
   "pygments_lexer": "ipython3",
   "version": "3.12.9"
  }
 },
 "nbformat": 4,
 "nbformat_minor": 5
}
